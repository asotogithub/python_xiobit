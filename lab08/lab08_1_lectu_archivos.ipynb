{
 "cells": [
  {
   "cell_type": "markdown",
   "metadata": {},
   "source": [
    "# Manejo de Archivos y textos en Python"
   ]
  },
  {
   "cell_type": "markdown",
   "metadata": {},
   "source": [
    "## Escritura de Archivos"
   ]
  },
  {
   "cell_type": "markdown",
   "metadata": {},
   "source": [
    "Estas lineas van abrir un archivo de texto en modo lectura y escritura"
   ]
  },
  {
   "cell_type": "code",
   "execution_count": null,
   "metadata": {},
   "outputs": [],
   "source": []
  },
  {
   "cell_type": "code",
   "execution_count": 7,
   "metadata": {},
   "outputs": [],
   "source": [
    "with open('salida.txt', mode = 'w') as planilla:\n",
    "    planilla.write('1001 Juan Perez 3600\\n')\n",
    "    planilla.write('1002 Maria Gonzales 3400\\n')\n",
    "    planilla.write('1003 Ramon Romero 2500\\n')"
   ]
  },
  {
   "cell_type": "markdown",
   "metadata": {},
   "source": [
    "## Para usar commandos de unix (iOS)"
   ]
  },
  {
   "cell_type": "code",
   "execution_count": 4,
   "metadata": {},
   "outputs": [
    {
     "name": "stdout",
     "output_type": "stream",
     "text": [
      "lab08_1_lectu_archivos.ipynb salida.txt\n"
     ]
    }
   ],
   "source": [
    "!ls"
   ]
  },
  {
   "cell_type": "code",
   "execution_count": 6,
   "metadata": {},
   "outputs": [
    {
     "name": "stdout",
     "output_type": "stream",
     "text": [
      "total 16\n",
      "drwxr-xr-x   5 abel  staff   160 Jun  5 20:53 \u001b[1m\u001b[36m.\u001b[m\u001b[m\n",
      "drwxr-xr-x  16 abel  staff   512 Jun  5 20:43 \u001b[1m\u001b[36m..\u001b[m\u001b[m\n",
      "drwxr-xr-x   4 abel  staff   128 Jun  5 20:51 \u001b[1m\u001b[36m.ipynb_checkpoints\u001b[m\u001b[m\n",
      "-rw-r--r--   1 abel  staff  1620 Jun  5 20:53 lab08_1_lectu_archivos.ipynb\n",
      "-rw-r--r--   1 abel  staff    69 Jun  5 20:51 salida.txt\n"
     ]
    }
   ],
   "source": [
    "! ls -al"
   ]
  },
  {
   "cell_type": "code",
   "execution_count": null,
   "metadata": {},
   "outputs": [],
   "source": []
  },
  {
   "cell_type": "code",
   "execution_count": 10,
   "metadata": {},
   "outputs": [],
   "source": [
    "with open('salida.txt', mode = 'w') as planilla:\n",
    "    planilla.write('1001,Juan Perez,3600\\n')\n",
    "    planilla.write('1002,Maria Gonzales,3400\\n')\n",
    "    planilla.write('1003,Ramon Romero,2500\\n')"
   ]
  },
  {
   "cell_type": "code",
   "execution_count": null,
   "metadata": {},
   "outputs": [],
   "source": []
  },
  {
   "cell_type": "code",
   "execution_count": 9,
   "metadata": {},
   "outputs": [],
   "source": [
    "with open('multi7.txt', mode = 'w') as multi7:\n",
    "    for num in range(1,11):\n",
    "        multi7.write(f'{num:2d} x 7 = {num*7:2d}\\n')"
   ]
  },
  {
   "cell_type": "markdown",
   "metadata": {},
   "source": [
    "## Lectura de Archivos"
   ]
  },
  {
   "cell_type": "code",
   "execution_count": 14,
   "metadata": {},
   "outputs": [
    {
     "name": "stdout",
     "output_type": "stream",
     "text": [
      "Num Ctaa       Apellido          Salario\n",
      "1001           Juan Perez          3600\n",
      "\n",
      "1002           Maria Gonzales      3400\n",
      "\n",
      "1003           Ramon Romero        2500\n",
      "\n",
      "1004           Pedro Nogales        3000\n"
     ]
    }
   ],
   "source": [
    "with open('salida.txt', mode = 'r') as cuentas:\n",
    "    print(f'{\"Num Ctaa\":<15}{\"Apellido\":<15}{\"Salario\":>10}')\n",
    "    for registro in cuentas:\n",
    "        codigo, nombre, sueldo = registro.split(',')\n",
    "        print(f'{codigo:<15}{nombre:<15}{sueldo:>10}')\n",
    "    "
   ]
  },
  {
   "cell_type": "code",
   "execution_count": null,
   "metadata": {},
   "outputs": [],
   "source": []
  },
  {
   "cell_type": "code",
   "execution_count": null,
   "metadata": {},
   "outputs": [],
   "source": []
  },
  {
   "cell_type": "code",
   "execution_count": null,
   "metadata": {},
   "outputs": [],
   "source": []
  },
  {
   "cell_type": "code",
   "execution_count": null,
   "metadata": {},
   "outputs": [],
   "source": []
  }
 ],
 "metadata": {
  "kernelspec": {
   "display_name": "Python 3",
   "language": "python",
   "name": "python3"
  },
  "language_info": {
   "codemirror_mode": {
    "name": "ipython",
    "version": 3
   },
   "file_extension": ".py",
   "mimetype": "text/x-python",
   "name": "python",
   "nbconvert_exporter": "python",
   "pygments_lexer": "ipython3",
   "version": "3.7.7"
  }
 },
 "nbformat": 4,
 "nbformat_minor": 4
}
