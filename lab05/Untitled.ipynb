{
 "cells": [
  {
   "cell_type": "markdown",
   "metadata": {},
   "source": [
    "# Conexion a Oracle Database"
   ]
  },
  {
   "cell_type": "markdown",
   "metadata": {},
   "source": [
    "# Instalar cx_Oracle librery for Python"
   ]
  },
  {
   "cell_type": "markdown",
   "metadata": {},
   "source": [
    "Usar el siguiente enlace para ver los pasos para instalar la libreria [conf cx_Oracle](https://www.cs.utexas.edu/~mitra/csSpring2012/cs327/cx_mac.html)"
   ]
  },
  {
   "cell_type": "code",
   "execution_count": null,
   "metadata": {},
   "outputs": [],
   "source": []
  },
  {
   "cell_type": "code",
   "execution_count": 14,
   "metadata": {},
   "outputs": [],
   "source": [
    "import cx_Oracle\n",
    "import datetime"
   ]
  },
  {
   "cell_type": "code",
   "execution_count": 4,
   "metadata": {},
   "outputs": [
    {
     "name": "stdout",
     "output_type": "stream",
     "text": [
      "COnnect Sucessful\n",
      "11.2.0.2.0\n",
      "Table name: ('TR_ERROR_LOG',)\n",
      "Table name: ('CF_INTERESTS',)\n",
      "Table name: ('CF_INTEREST_EVAL',)\n",
      "Table name: ('TR_AUDIT_BANK',)\n",
      "Table name: ('HIS_AUDIT_TABLE',)\n",
      "Table name: ('TR_ACCOUNT',)\n",
      "Table name: ('TR_DAILY',)\n"
     ]
    }
   ],
   "source": [
    "conn = cx_Oracle.connect(\"bank/bank@XEDOCKER\")\n",
    "cursor = conn.cursor()\n",
    "cursor.execute(\"\"\"SELECT table_name\n",
    "                FROM user_tables\"\"\")\n",
    "\n",
    "if conn:\n",
    "    print (\"COnnect Sucessful\")\n",
    "    print(conn.version)\n",
    "else:\n",
    "    print(\"Not COnnect\")\n",
    "for tn in cursor:\n",
    "    print('Table name:', tn)\n",
    "    \n",
    "conn.close()    "
   ]
  },
  {
   "cell_type": "code",
   "execution_count": 5,
   "metadata": {},
   "outputs": [],
   "source": [
    "# Consulta a datos de una tabla existente"
   ]
  },
  {
   "cell_type": "code",
   "execution_count": 16,
   "metadata": {},
   "outputs": [
    {
     "name": "stdout",
     "output_type": "stream",
     "text": [
      "2020-05-31 13:04:34.383055\n",
      "Total:  128961901.99991734\n",
      "Media:  84.73119922833548\n",
      "2020-05-31 13:04:58.381657\n",
      "End..\n"
     ]
    }
   ],
   "source": [
    "total = 0.0\n",
    "media = 0.0\n",
    "i = 0\n",
    "conn = cx_Oracle.connect(\"bank\", \"bank\", \"XEDOCKER\")\n",
    "print(datetime.datetime.now())\n",
    "cursor_daily = conn.cursor()\n",
    "cursor_daily.execute(\"\"\"SELECT daily_id, account_id_origin, account_id_destin, amount, type_transaction\n",
    "                        FROM TR_DAILY\n",
    "                        WHERE 1 = 1 \"\"\")\n",
    "for daily_id, acc_id_o, acc_id_d, amount, type_tr in cursor_daily:\n",
    "    i += 1\n",
    "    total += amount\n",
    "print('Total: ', total)\n",
    "print('Media: ', total / i )\n",
    "    #print(daily_id, acc_id_o, acc_id_d, amount)\n",
    "print(datetime.datetime.now())\n",
    "print('End..')    \n",
    "conn.close()"
   ]
  },
  {
   "cell_type": "code",
   "execution_count": 19,
   "metadata": {},
   "outputs": [
    {
     "name": "stdout",
     "output_type": "stream",
     "text": [
      "2020-05-31 13:08:41.980089\n",
      "Total:  128961902\n",
      "Media:  84.73119922838978\n",
      "2020-05-31 13:08:42.465692\n",
      "End..\n"
     ]
    }
   ],
   "source": [
    "conn = cx_Oracle.connect(\"bank\", \"bank\", \"XEDOCKER\")\n",
    "print(datetime.datetime.now())\n",
    "cursor_daily2 = conn.cursor()\n",
    "cursor_daily2.execute(\"\"\"SELECT sum(amount) sum_amount, avg(amount) avg_amount\n",
    "                        FROM TR_DAILY\n",
    "                        WHERE 1 = 1 \"\"\")\n",
    "for total_a, media_a in cursor_daily2:\n",
    "    print('Total: ', total_a)\n",
    "    print('Media: ', media_a)\n",
    "    #print(daily_id, acc_id_o, acc_id_d, amount)\n",
    "print(datetime.datetime.now())\n",
    "print('End..')    \n",
    "conn.close()"
   ]
  },
  {
   "cell_type": "code",
   "execution_count": null,
   "metadata": {},
   "outputs": [],
   "source": []
  },
  {
   "cell_type": "code",
   "execution_count": null,
   "metadata": {},
   "outputs": [],
   "source": []
  },
  {
   "cell_type": "code",
   "execution_count": null,
   "metadata": {},
   "outputs": [],
   "source": []
  },
  {
   "cell_type": "code",
   "execution_count": null,
   "metadata": {},
   "outputs": [],
   "source": []
  },
  {
   "cell_type": "code",
   "execution_count": null,
   "metadata": {},
   "outputs": [],
   "source": []
  },
  {
   "cell_type": "code",
   "execution_count": null,
   "metadata": {},
   "outputs": [],
   "source": []
  },
  {
   "cell_type": "code",
   "execution_count": null,
   "metadata": {},
   "outputs": [],
   "source": []
  },
  {
   "cell_type": "code",
   "execution_count": null,
   "metadata": {},
   "outputs": [],
   "source": []
  },
  {
   "cell_type": "code",
   "execution_count": null,
   "metadata": {},
   "outputs": [],
   "source": []
  },
  {
   "cell_type": "code",
   "execution_count": null,
   "metadata": {},
   "outputs": [],
   "source": []
  },
  {
   "cell_type": "code",
   "execution_count": null,
   "metadata": {},
   "outputs": [],
   "source": []
  },
  {
   "cell_type": "code",
   "execution_count": null,
   "metadata": {},
   "outputs": [],
   "source": []
  },
  {
   "cell_type": "code",
   "execution_count": null,
   "metadata": {},
   "outputs": [],
   "source": []
  },
  {
   "cell_type": "code",
   "execution_count": null,
   "metadata": {},
   "outputs": [],
   "source": []
  },
  {
   "cell_type": "code",
   "execution_count": null,
   "metadata": {},
   "outputs": [],
   "source": []
  },
  {
   "cell_type": "code",
   "execution_count": null,
   "metadata": {},
   "outputs": [],
   "source": []
  }
 ],
 "metadata": {
  "kernelspec": {
   "display_name": "Python 3",
   "language": "python",
   "name": "python3"
  },
  "language_info": {
   "codemirror_mode": {
    "name": "ipython",
    "version": 3
   },
   "file_extension": ".py",
   "mimetype": "text/x-python",
   "name": "python",
   "nbconvert_exporter": "python",
   "pygments_lexer": "ipython3",
   "version": "3.7.7"
  }
 },
 "nbformat": 4,
 "nbformat_minor": 4
}
