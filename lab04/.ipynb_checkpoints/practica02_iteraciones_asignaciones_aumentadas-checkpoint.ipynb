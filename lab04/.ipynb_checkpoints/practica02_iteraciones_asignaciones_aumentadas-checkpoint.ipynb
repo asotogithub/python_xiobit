{
 "cells": [
  {
   "cell_type": "markdown",
   "metadata": {},
   "source": [
    "# Práctica 2 - Iteraciones / Asignaciones Aumentadas"
   ]
  },
  {
   "cell_type": "markdown",
   "metadata": {},
   "source": [
    "Realizar un programa que calcule el promedio de notas de alumnos, la introducción de las notas se hará desde el teclado(con input) hasta que se introduzca un `-1` lo cual indicará que ya no se meterán mas notas y en ese momento se debe imprimir el promedio de las notas del curso.\n",
    "\n",
    "Ejemplo de funcionamiento:\n",
    "\n",
    "```\n",
    "Introduzca nota (escriba -1 para salir)? 45\n",
    "Introduzca nota (escriba -1 para salir)? 63\n",
    "Introduzca nota (escriba -1 para salir)? 74\n",
    "Introduzca nota (escriba -1 para salir)? 53\n",
    "Introduzca nota (escriba -1 para salir)? -1    <- salimos de la ejecución\n",
    "\n",
    "El promedio del curso es: 58.75\n",
    "```\n",
    "\n",
    "*Tips - Utilizar un input dentro de un ciclo hasta que detecte un -1 para salir, calcular el promedio con el total y el contador*"
   ]
  },
  {
   "cell_type": "code",
   "execution_count": 1,
   "metadata": {},
   "outputs": [],
   "source": [
    "# Solución...\n"
   ]
  },
  {
   "cell_type": "code",
   "execution_count": 10,
   "metadata": {},
   "outputs": [
    {
     "name": "stdin",
     "output_type": "stream",
     "text": [
      "Introdusca nota(escribir -1 para salir)? 45\n",
      "Introdusca nota(escribir -1 para salir)? 63\n",
      "Introdusca nota(escribir -1 para salir)? 74\n",
      "Introdusca nota(escribir -1 para salir)? 53\n",
      "Introdusca nota(escribir -1 para salir)? -1\n"
     ]
    },
    {
     "name": "stdout",
     "output_type": "stream",
     "text": [
      "El promedio del curso es: 58.75\n"
     ]
    }
   ],
   "source": [
    "nota = 0\n",
    "i = 0\n",
    "nota_promedio = 0\n",
    "while nota >= 0:\n",
    "    i += 1\n",
    "    nota = int (input('Introdusca nota(escribir -1 para salir)?'))\n",
    "    if nota >=0:\n",
    "        nota_promedio = nota_promedio + nota\n",
    "print('El promedio del curso es:', nota_promedio / (i-1))\n",
    "    "
   ]
  },
  {
   "cell_type": "code",
   "execution_count": null,
   "metadata": {},
   "outputs": [],
   "source": []
  },
  {
   "cell_type": "code",
   "execution_count": null,
   "metadata": {},
   "outputs": [],
   "source": []
  },
  {
   "cell_type": "code",
   "execution_count": null,
   "metadata": {},
   "outputs": [],
   "source": []
  },
  {
   "cell_type": "code",
   "execution_count": null,
   "metadata": {},
   "outputs": [],
   "source": []
  },
  {
   "cell_type": "code",
   "execution_count": null,
   "metadata": {},
   "outputs": [],
   "source": []
  },
  {
   "cell_type": "code",
   "execution_count": null,
   "metadata": {},
   "outputs": [],
   "source": []
  },
  {
   "cell_type": "code",
   "execution_count": 4,
   "metadata": {},
   "outputs": [
    {
     "data": {
      "text/plain": [
       "4.583333333333333"
      ]
     },
     "execution_count": 4,
     "metadata": {},
     "output_type": "execute_result"
    }
   ],
   "source": [
    "nota_promedio"
   ]
  },
  {
   "cell_type": "code",
   "execution_count": null,
   "metadata": {},
   "outputs": [],
   "source": []
  },
  {
   "cell_type": "code",
   "execution_count": null,
   "metadata": {},
   "outputs": [],
   "source": []
  }
 ],
 "metadata": {
  "kernelspec": {
   "display_name": "Python 3",
   "language": "python",
   "name": "python3"
  },
  "language_info": {
   "codemirror_mode": {
    "name": "ipython",
    "version": 3
   },
   "file_extension": ".py",
   "mimetype": "text/x-python",
   "name": "python",
   "nbconvert_exporter": "python",
   "pygments_lexer": "ipython3",
   "version": "3.7.7"
  }
 },
 "nbformat": 4,
 "nbformat_minor": 4
}
