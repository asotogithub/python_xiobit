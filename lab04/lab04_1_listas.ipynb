{
 "cells": [
  {
   "cell_type": "markdown",
   "metadata": {},
   "source": [
    "# Listas en Python"
   ]
  },
  {
   "cell_type": "markdown",
   "metadata": {},
   "source": [
    "La lista es una coleccion ordenada y modificable. Dentro una lista yo puedo tener elementos duplicados. [lista] "
   ]
  },
  {
   "cell_type": "code",
   "execution_count": 1,
   "metadata": {},
   "outputs": [],
   "source": [
    "# Definimos una lista de temperaturas\n",
    "temperaturas = [12.5, 13.5, 15.7, 16.3, 12.5]"
   ]
  },
  {
   "cell_type": "code",
   "execution_count": 2,
   "metadata": {},
   "outputs": [
    {
     "data": {
      "text/plain": [
       "5"
      ]
     },
     "execution_count": 2,
     "metadata": {},
     "output_type": "execute_result"
    }
   ],
   "source": [
    "# numero de elementos\n",
    "len(temperaturas)"
   ]
  },
  {
   "cell_type": "code",
   "execution_count": 3,
   "metadata": {},
   "outputs": [
    {
     "data": {
      "text/plain": [
       "12.5"
      ]
     },
     "execution_count": 3,
     "metadata": {},
     "output_type": "execute_result"
    }
   ],
   "source": [
    "temperaturas[0]"
   ]
  },
  {
   "cell_type": "code",
   "execution_count": 4,
   "metadata": {},
   "outputs": [
    {
     "data": {
      "text/plain": [
       "12.5"
      ]
     },
     "execution_count": 4,
     "metadata": {},
     "output_type": "execute_result"
    }
   ],
   "source": [
    "# Como saber el valor del ultimo elemento\n",
    "temperaturas[len(temperaturas) - 1]"
   ]
  },
  {
   "cell_type": "code",
   "execution_count": 5,
   "metadata": {},
   "outputs": [],
   "source": [
    "# Modificar elementos en una lista\n",
    "temperaturas[3] = 10.7"
   ]
  },
  {
   "cell_type": "code",
   "execution_count": 6,
   "metadata": {},
   "outputs": [
    {
     "data": {
      "text/plain": [
       "[12.5, 13.5, 15.7, 10.7, 12.5]"
      ]
     },
     "execution_count": 6,
     "metadata": {},
     "output_type": "execute_result"
    }
   ],
   "source": [
    "temperaturas"
   ]
  },
  {
   "cell_type": "code",
   "execution_count": 7,
   "metadata": {},
   "outputs": [],
   "source": [
    "# En Python un String tambies es una lista de caracteres\n",
    "saludo = 'Hola Mundo Python'"
   ]
  },
  {
   "cell_type": "code",
   "execution_count": 8,
   "metadata": {},
   "outputs": [
    {
     "data": {
      "text/plain": [
       "17"
      ]
     },
     "execution_count": 8,
     "metadata": {},
     "output_type": "execute_result"
    }
   ],
   "source": [
    "len(saludo)"
   ]
  },
  {
   "cell_type": "code",
   "execution_count": 9,
   "metadata": {},
   "outputs": [
    {
     "data": {
      "text/plain": [
       "'n'"
      ]
     },
     "execution_count": 9,
     "metadata": {},
     "output_type": "execute_result"
    }
   ],
   "source": [
    "saludo[len(saludo) - 1]"
   ]
  },
  {
   "cell_type": "code",
   "execution_count": 11,
   "metadata": {},
   "outputs": [
    {
     "ename": "TypeError",
     "evalue": "'str' object does not support item assignment",
     "output_type": "error",
     "traceback": [
      "\u001b[0;31m---------------------------------------------------------------------------\u001b[0m",
      "\u001b[0;31mTypeError\u001b[0m                                 Traceback (most recent call last)",
      "\u001b[0;32m<ipython-input-11-0a658ead445f>\u001b[0m in \u001b[0;36m<module>\u001b[0;34m\u001b[0m\n\u001b[1;32m      1\u001b[0m \u001b[0;31m# Lo que no se puede hacer es cambiar un valor en un String, por elm\u001b[0m\u001b[0;34m\u001b[0m\u001b[0;34m\u001b[0m\u001b[0;34m\u001b[0m\u001b[0m\n\u001b[0;32m----> 2\u001b[0;31m \u001b[0msaludo\u001b[0m\u001b[0;34m[\u001b[0m\u001b[0;36m4\u001b[0m\u001b[0;34m]\u001b[0m \u001b[0;34m=\u001b[0m \u001b[0;34m'J'\u001b[0m \u001b[0;31m# La variable String no es mutable\u001b[0m\u001b[0;34m\u001b[0m\u001b[0;34m\u001b[0m\u001b[0m\n\u001b[0m",
      "\u001b[0;31mTypeError\u001b[0m: 'str' object does not support item assignment"
     ]
    }
   ],
   "source": [
    "# Lo que no se puede hacer es cambiar un valor en un String, por elm\n",
    "saludo[4] = 'J' # La variable String no es mutable"
   ]
  },
  {
   "cell_type": "code",
   "execution_count": 12,
   "metadata": {},
   "outputs": [],
   "source": [
    "# Adicionar elementos a una Lista\n",
    "edades = []"
   ]
  },
  {
   "cell_type": "code",
   "execution_count": 14,
   "metadata": {},
   "outputs": [],
   "source": [
    "import random"
   ]
  },
  {
   "cell_type": "code",
   "execution_count": 15,
   "metadata": {},
   "outputs": [
    {
     "data": {
      "text/plain": [
       "list"
      ]
     },
     "execution_count": 15,
     "metadata": {},
     "output_type": "execute_result"
    }
   ],
   "source": [
    "type(edades)"
   ]
  },
  {
   "cell_type": "code",
   "execution_count": null,
   "metadata": {},
   "outputs": [],
   "source": []
  },
  {
   "cell_type": "code",
   "execution_count": 19,
   "metadata": {},
   "outputs": [],
   "source": [
    "v_edad = 0\n",
    "for edad in range(11):\n",
    "    v_edad = random.randrange(10,51)\n",
    "    edades = edades + [v_edad]"
   ]
  },
  {
   "cell_type": "code",
   "execution_count": 20,
   "metadata": {},
   "outputs": [
    {
     "data": {
      "text/plain": [
       "[16, 17, 41, 50, 42, 22, 23, 47, 42, 44, 37]"
      ]
     },
     "execution_count": 20,
     "metadata": {},
     "output_type": "execute_result"
    }
   ],
   "source": [
    "edades"
   ]
  },
  {
   "cell_type": "code",
   "execution_count": 21,
   "metadata": {},
   "outputs": [],
   "source": [
    "for edad in range(11):\n",
    "    edades += [random.randrange(10,51)]"
   ]
  },
  {
   "cell_type": "code",
   "execution_count": 22,
   "metadata": {},
   "outputs": [
    {
     "data": {
      "text/plain": [
       "[16,\n",
       " 17,\n",
       " 41,\n",
       " 50,\n",
       " 42,\n",
       " 22,\n",
       " 23,\n",
       " 47,\n",
       " 42,\n",
       " 44,\n",
       " 37,\n",
       " 14,\n",
       " 34,\n",
       " 42,\n",
       " 39,\n",
       " 27,\n",
       " 31,\n",
       " 50,\n",
       " 31,\n",
       " 29,\n",
       " 22,\n",
       " 39]"
      ]
     },
     "execution_count": 22,
     "metadata": {},
     "output_type": "execute_result"
    }
   ],
   "source": [
    "edades"
   ]
  },
  {
   "cell_type": "code",
   "execution_count": 27,
   "metadata": {},
   "outputs": [],
   "source": [
    "lista1 = [1,2,3,4]\n",
    "lista2 = [5,6,7,8]\n",
    "lista3 = [1,2,3,4]"
   ]
  },
  {
   "cell_type": "code",
   "execution_count": 28,
   "metadata": {},
   "outputs": [],
   "source": [
    "lista_grande = lista1 + lista2"
   ]
  },
  {
   "cell_type": "code",
   "execution_count": 29,
   "metadata": {},
   "outputs": [
    {
     "data": {
      "text/plain": [
       "[1, 2, 3, 4, 5, 6, 7, 8]"
      ]
     },
     "execution_count": 29,
     "metadata": {},
     "output_type": "execute_result"
    }
   ],
   "source": [
    "lista_grande"
   ]
  },
  {
   "cell_type": "code",
   "execution_count": 30,
   "metadata": {},
   "outputs": [],
   "source": [
    "lista_grande += [12]"
   ]
  },
  {
   "cell_type": "code",
   "execution_count": 31,
   "metadata": {},
   "outputs": [],
   "source": [
    "lista_grande += lista3"
   ]
  },
  {
   "cell_type": "code",
   "execution_count": 32,
   "metadata": {},
   "outputs": [
    {
     "data": {
      "text/plain": [
       "[1, 2, 3, 4, 5, 6, 7, 8, 12, 1, 2, 3, 4]"
      ]
     },
     "execution_count": 32,
     "metadata": {},
     "output_type": "execute_result"
    }
   ],
   "source": [
    "lista_grande"
   ]
  },
  {
   "cell_type": "code",
   "execution_count": 33,
   "metadata": {},
   "outputs": [
    {
     "name": "stdout",
     "output_type": "stream",
     "text": [
      "1\n",
      "2\n",
      "3\n",
      "4\n",
      "5\n",
      "6\n",
      "7\n",
      "8\n",
      "12\n",
      "1\n",
      "2\n",
      "3\n",
      "4\n"
     ]
    }
   ],
   "source": [
    "# Iterar en la lista\n",
    "for x in lista_grande:\n",
    "    print(x)"
   ]
  },
  {
   "cell_type": "code",
   "execution_count": 34,
   "metadata": {},
   "outputs": [
    {
     "data": {
      "text/plain": [
       "False"
      ]
     },
     "execution_count": 34,
     "metadata": {},
     "output_type": "execute_result"
    }
   ],
   "source": [
    "lista1 == lista2"
   ]
  },
  {
   "cell_type": "code",
   "execution_count": 36,
   "metadata": {},
   "outputs": [
    {
     "data": {
      "text/plain": [
       "True"
      ]
     },
     "execution_count": 36,
     "metadata": {},
     "output_type": "execute_result"
    }
   ],
   "source": [
    "lista1 == lista3"
   ]
  },
  {
   "cell_type": "code",
   "execution_count": 38,
   "metadata": {},
   "outputs": [],
   "source": [
    "cuento_cerdos = \"\"\"Eran tres-cerditos que decidieron irse al bosque y hacerce una casa cada uno.\n",
    "El cerdito hizo su casa de paja , el cerdito mediado hizo su casa de madera ,\n",
    "y el cerdito más pequeño que era el más trabajador hizo su casa de ladrillo .\n",
    "El mayor terminó muy pronto y se puso a descanzar, pero \"toc - toc\".\n",
    "Quíen es?... soy el lobo y si no me abres, soplare y soplare y tu casa derribaré.\n",
    "Entonces el lobo sopló y sopló hasta que la casa derribó, pero el cerdito consiguió\n",
    "escapar a la casa de su hermando mediano, estaban los dos-cerditos en la casa cuando\n",
    "llegó el lobo y dijo... abran la puerta o soplare y soplare y la casa derribaré....\n",
    "y el lobo sopló y sopló y la casa derribó, pero ellos pudieron escapar a la casa de su\n",
    "hermano pequeño, pero que era de ladrillo y así los tres-cerditos consiguieron ponerse a salvo del lobo .\n",
    "Tres años despues los tres-cerditos terminaron como tocino en Sofía, FIN\"\"\""
   ]
  },
  {
   "cell_type": "code",
   "execution_count": 39,
   "metadata": {},
   "outputs": [
    {
     "data": {
      "text/plain": [
       "'Eran tres-cerditos que decidieron irse al bosque y hacerce una casa cada uno.\\nEl cerdito hizo su casa de paja , el cerdito mediado hizo su casa de madera ,\\ny el cerdito más pequeño que era el más trabajador hizo su casa de ladrillo .\\nEl mayor terminó muy pronto y se puso a descanzar, pero \"toc - toc\".\\nQuíen es?... soy el lobo y si no me abres, soplare y soplare y tu casa derribaré.\\nEntonces el lobo sopló y sopló hasta que la casa derribó, pero el cerdito consiguió\\nescapar a la casa de su hermando mediano, estaban los dos-cerditos en la casa cuando\\nllegó el lobo y dijo... abran la puerta o soplare y soplare y la casa derribaré....\\ny el lobo sopló y sopló y la casa derribó, pero ellos pudieron escapar a la casa de su\\nhermano pequeño, pero que era de ladrillo y así los tres-cerditos consiguieron ponerse a salvo del lobo .\\nTres años despues los tres-cerditos terminaron como tocino en Sofía, FIN'"
      ]
     },
     "execution_count": 39,
     "metadata": {},
     "output_type": "execute_result"
    }
   ],
   "source": [
    "cuento_cerdos"
   ]
  },
  {
   "cell_type": "code",
   "execution_count": 40,
   "metadata": {},
   "outputs": [
    {
     "data": {
      "text/plain": [
       "['Eran',\n",
       " 'tres-cerditos',\n",
       " 'que',\n",
       " 'decidieron',\n",
       " 'irse',\n",
       " 'al',\n",
       " 'bosque',\n",
       " 'y',\n",
       " 'hacerce',\n",
       " 'una',\n",
       " 'casa',\n",
       " 'cada',\n",
       " 'uno.\\nEl',\n",
       " 'cerdito',\n",
       " 'hizo',\n",
       " 'su',\n",
       " 'casa',\n",
       " 'de',\n",
       " 'paja',\n",
       " ',',\n",
       " 'el',\n",
       " 'cerdito',\n",
       " 'mediado',\n",
       " 'hizo',\n",
       " 'su',\n",
       " 'casa',\n",
       " 'de',\n",
       " 'madera',\n",
       " ',\\ny',\n",
       " 'el',\n",
       " 'cerdito',\n",
       " 'más',\n",
       " 'pequeño',\n",
       " 'que',\n",
       " 'era',\n",
       " 'el',\n",
       " 'más',\n",
       " 'trabajador',\n",
       " 'hizo',\n",
       " 'su',\n",
       " 'casa',\n",
       " 'de',\n",
       " 'ladrillo',\n",
       " '.\\nEl',\n",
       " 'mayor',\n",
       " 'terminó',\n",
       " 'muy',\n",
       " 'pronto',\n",
       " 'y',\n",
       " 'se',\n",
       " 'puso',\n",
       " 'a',\n",
       " 'descanzar,',\n",
       " 'pero',\n",
       " '\"toc',\n",
       " '-',\n",
       " 'toc\".\\nQuíen',\n",
       " 'es?...',\n",
       " 'soy',\n",
       " 'el',\n",
       " 'lobo',\n",
       " 'y',\n",
       " 'si',\n",
       " 'no',\n",
       " 'me',\n",
       " 'abres,',\n",
       " 'soplare',\n",
       " 'y',\n",
       " 'soplare',\n",
       " 'y',\n",
       " 'tu',\n",
       " 'casa',\n",
       " 'derribaré.\\nEntonces',\n",
       " 'el',\n",
       " 'lobo',\n",
       " 'sopló',\n",
       " 'y',\n",
       " 'sopló',\n",
       " 'hasta',\n",
       " 'que',\n",
       " 'la',\n",
       " 'casa',\n",
       " 'derribó,',\n",
       " 'pero',\n",
       " 'el',\n",
       " 'cerdito',\n",
       " 'consiguió\\nescapar',\n",
       " 'a',\n",
       " 'la',\n",
       " 'casa',\n",
       " 'de',\n",
       " 'su',\n",
       " 'hermando',\n",
       " 'mediano,',\n",
       " 'estaban',\n",
       " 'los',\n",
       " 'dos-cerditos',\n",
       " 'en',\n",
       " 'la',\n",
       " 'casa',\n",
       " 'cuando\\nllegó',\n",
       " 'el',\n",
       " 'lobo',\n",
       " 'y',\n",
       " 'dijo...',\n",
       " 'abran',\n",
       " 'la',\n",
       " 'puerta',\n",
       " 'o',\n",
       " 'soplare',\n",
       " 'y',\n",
       " 'soplare',\n",
       " 'y',\n",
       " 'la',\n",
       " 'casa',\n",
       " 'derribaré....\\ny',\n",
       " 'el',\n",
       " 'lobo',\n",
       " 'sopló',\n",
       " 'y',\n",
       " 'sopló',\n",
       " 'y',\n",
       " 'la',\n",
       " 'casa',\n",
       " 'derribó,',\n",
       " 'pero',\n",
       " 'ellos',\n",
       " 'pudieron',\n",
       " 'escapar',\n",
       " 'a',\n",
       " 'la',\n",
       " 'casa',\n",
       " 'de',\n",
       " 'su\\nhermano',\n",
       " 'pequeño,',\n",
       " 'pero',\n",
       " 'que',\n",
       " 'era',\n",
       " 'de',\n",
       " 'ladrillo',\n",
       " 'y',\n",
       " 'así',\n",
       " 'los',\n",
       " 'tres-cerditos',\n",
       " 'consiguieron',\n",
       " 'ponerse',\n",
       " 'a',\n",
       " 'salvo',\n",
       " 'del',\n",
       " 'lobo',\n",
       " '.\\nTres',\n",
       " 'años',\n",
       " 'despues',\n",
       " 'los',\n",
       " 'tres-cerditos',\n",
       " 'terminaron',\n",
       " 'como',\n",
       " 'tocino',\n",
       " 'en',\n",
       " 'Sofía,',\n",
       " 'FIN']"
      ]
     },
     "execution_count": 40,
     "metadata": {},
     "output_type": "execute_result"
    }
   ],
   "source": [
    "cuento_cerdos.split(' ')"
   ]
  },
  {
   "cell_type": "code",
   "execution_count": 41,
   "metadata": {},
   "outputs": [],
   "source": [
    "lista_palabras = cuento_cerdos.split(' ')"
   ]
  },
  {
   "cell_type": "code",
   "execution_count": 43,
   "metadata": {},
   "outputs": [
    {
     "data": {
      "text/plain": [
       "161"
      ]
     },
     "execution_count": 43,
     "metadata": {},
     "output_type": "execute_result"
    }
   ],
   "source": [
    "len(lista_palabras)"
   ]
  },
  {
   "cell_type": "code",
   "execution_count": 44,
   "metadata": {},
   "outputs": [
    {
     "data": {
      "text/plain": [
       "'FIN'"
      ]
     },
     "execution_count": 44,
     "metadata": {},
     "output_type": "execute_result"
    }
   ],
   "source": [
    "lista_palabras[len(lista_palabras) - 1]"
   ]
  },
  {
   "cell_type": "code",
   "execution_count": null,
   "metadata": {},
   "outputs": [],
   "source": []
  },
  {
   "cell_type": "code",
   "execution_count": 45,
   "metadata": {},
   "outputs": [],
   "source": [
    "def codificador_cuento (cuento):\n",
    "    lista_palabras = cuento.split(' ')\n",
    "    cuento_salida =''\n",
    "    for palabra in lista_palabras:\n",
    "        if palabra == 'tres-cerditos':\n",
    "            palabra = '🐷🐷🐷'\n",
    "        elif palabra == 'dos-cerditos':\n",
    "            palabra = '🐷🐷'\n",
    "        elif palabra == 'casa':\n",
    "            palabra = '🏡'\n",
    "        elif palabra == 'cerdito':\n",
    "            palabra = '🐷'\n",
    "        elif palabra == 'madera':\n",
    "            palabra = '🌲'\n",
    "        elif palabra == 'puerta':\n",
    "            palabra = '🚪'\n",
    "        elif palabra == 'tocino':\n",
    "            palabra = '🥓'\n",
    "        elif palabra == 'lobo':\n",
    "            palabra = '🐺'\n",
    "        cuento_salida = cuento_salida +' '+ palabra\n",
    "    return cuento_salida\n",
    "    \n",
    "        \n",
    "        "
   ]
  },
  {
   "cell_type": "code",
   "execution_count": 46,
   "metadata": {},
   "outputs": [
    {
     "data": {
      "text/plain": [
       "' Eran 🐷🐷🐷 que decidieron irse al bosque y hacerce una 🏡 cada uno.\\nEl 🐷 hizo su 🏡 de paja , el 🐷 mediado hizo su 🏡 de 🌲 ,\\ny el 🐷 más pequeño que era el más trabajador hizo su 🏡 de ladrillo .\\nEl mayor terminó muy pronto y se puso a descanzar, pero \"toc - toc\".\\nQuíen es?... soy el 🐺 y si no me abres, soplare y soplare y tu 🏡 derribaré.\\nEntonces el 🐺 sopló y sopló hasta que la 🏡 derribó, pero el 🐷 consiguió\\nescapar a la 🏡 de su hermando mediano, estaban los 🐷🐷 en la 🏡 cuando\\nllegó el 🐺 y dijo... abran la 🚪 o soplare y soplare y la 🏡 derribaré....\\ny el 🐺 sopló y sopló y la 🏡 derribó, pero ellos pudieron escapar a la 🏡 de su\\nhermano pequeño, pero que era de ladrillo y así los 🐷🐷🐷 consiguieron ponerse a salvo del 🐺 .\\nTres años despues los 🐷🐷🐷 terminaron como 🥓 en Sofía, FIN'"
      ]
     },
     "execution_count": 46,
     "metadata": {},
     "output_type": "execute_result"
    }
   ],
   "source": [
    "codificador_cuento(cuento_cerdos)"
   ]
  },
  {
   "cell_type": "code",
   "execution_count": 47,
   "metadata": {},
   "outputs": [
    {
     "name": "stdout",
     "output_type": "stream",
     "text": [
      " Eran 🐷🐷🐷 que decidieron irse al bosque y hacerce una 🏡 cada uno.\n",
      "El 🐷 hizo su 🏡 de paja , el 🐷 mediado hizo su 🏡 de 🌲 ,\n",
      "y el 🐷 más pequeño que era el más trabajador hizo su 🏡 de ladrillo .\n",
      "El mayor terminó muy pronto y se puso a descanzar, pero \"toc - toc\".\n",
      "Quíen es?... soy el 🐺 y si no me abres, soplare y soplare y tu 🏡 derribaré.\n",
      "Entonces el 🐺 sopló y sopló hasta que la 🏡 derribó, pero el 🐷 consiguió\n",
      "escapar a la 🏡 de su hermando mediano, estaban los 🐷🐷 en la 🏡 cuando\n",
      "llegó el 🐺 y dijo... abran la 🚪 o soplare y soplare y la 🏡 derribaré....\n",
      "y el 🐺 sopló y sopló y la 🏡 derribó, pero ellos pudieron escapar a la 🏡 de su\n",
      "hermano pequeño, pero que era de ladrillo y así los 🐷🐷🐷 consiguieron ponerse a salvo del 🐺 .\n",
      "Tres años despues los 🐷🐷🐷 terminaron como 🥓 en Sofía, FIN\n"
     ]
    }
   ],
   "source": [
    "print(codificador_cuento(cuento_cerdos))"
   ]
  },
  {
   "cell_type": "code",
   "execution_count": null,
   "metadata": {},
   "outputs": [],
   "source": []
  },
  {
   "cell_type": "code",
   "execution_count": null,
   "metadata": {},
   "outputs": [],
   "source": []
  },
  {
   "cell_type": "code",
   "execution_count": null,
   "metadata": {},
   "outputs": [],
   "source": []
  },
  {
   "cell_type": "code",
   "execution_count": null,
   "metadata": {},
   "outputs": [],
   "source": []
  },
  {
   "cell_type": "code",
   "execution_count": null,
   "metadata": {},
   "outputs": [],
   "source": []
  },
  {
   "cell_type": "code",
   "execution_count": null,
   "metadata": {},
   "outputs": [],
   "source": []
  }
 ],
 "metadata": {
  "kernelspec": {
   "display_name": "Python 3",
   "language": "python",
   "name": "python3"
  },
  "language_info": {
   "codemirror_mode": {
    "name": "ipython",
    "version": 3
   },
   "file_extension": ".py",
   "mimetype": "text/x-python",
   "name": "python",
   "nbconvert_exporter": "python",
   "pygments_lexer": "ipython3",
   "version": "3.7.7"
  }
 },
 "nbformat": 4,
 "nbformat_minor": 4
}
