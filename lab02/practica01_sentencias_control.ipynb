{
 "cells": [
  {
   "cell_type": "markdown",
   "metadata": {},
   "source": [
    "# Práctica - Sentencias de Control"
   ]
  },
  {
   "cell_type": "markdown",
   "metadata": {},
   "source": [
    "Realizar un pequeño programa en python en el cual se pida el nombre de un alumno y a continuación se pidan tres notas académicas, con esta información el programa debe calcular la nota final e imprimir esta con un mensaje, por ejemplo: **\"Juan lo hiciste excelente\"** si la nota es mayor a 85, **\"Juan lo hiciste bien\"** si la nota es mayor o igual a 51 y **\"Juan reprobaste!\"** si es menor a 51."
   ]
  },
  {
   "cell_type": "code",
   "execution_count": 1,
   "metadata": {},
   "outputs": [],
   "source": [
    "# tips: usa todo lo que aprendiste hasta el momento (inputs, prints, sentencias de control, etc)"
   ]
  },
  {
   "cell_type": "code",
   "execution_count": 6,
   "metadata": {},
   "outputs": [
    {
     "name": "stdin",
     "output_type": "stream",
     "text": [
      "Ingrese el Nombre: Abel\n",
      "Ingrese nota de Matematicas: 90\n",
      "Ingrese nota de Fisica: 90\n",
      "Ingrese nota de Quimica: 90\n"
     ]
    },
    {
     "name": "stdout",
     "output_type": "stream",
     "text": [
      "Su Nota es: 90.0\n",
      "Abel lo hichiste excelente\n"
     ]
    }
   ],
   "source": [
    "nombre=''\n",
    "nota_mate=0\n",
    "nota_fisica=0\n",
    "nota_quimica=0\n",
    "nota_final=0\n",
    "\n",
    "nombre = input('Ingrese el Nombre:')\n",
    "nota_mate = float(input('Ingrese nota de Matematicas:'))\n",
    "nota_fisica = float(input('Ingrese nota de Fisica:'))\n",
    "nota_quimica = float(input('Ingrese nota de Quimica:'))\n",
    "\n",
    "nota_final = (nota_mate + nota_fisica + nota_quimica)/3\n",
    "print('Su Nota es:', nota_final)\n",
    "\n",
    "if nota_final > 85:\n",
    "    print(nombre,'lo hichiste excelente')\n",
    "elif nota_final >= 51:\n",
    "    print(nombre,'lo hiciste bien')\n",
    "else:\n",
    "    print(nombre,'reprobaste!')\n",
    "\n",
    "\n"
   ]
  },
  {
   "cell_type": "code",
   "execution_count": null,
   "metadata": {},
   "outputs": [],
   "source": []
  },
  {
   "cell_type": "code",
   "execution_count": null,
   "metadata": {},
   "outputs": [],
   "source": []
  },
  {
   "cell_type": "code",
   "execution_count": null,
   "metadata": {},
   "outputs": [],
   "source": []
  },
  {
   "cell_type": "code",
   "execution_count": null,
   "metadata": {},
   "outputs": [],
   "source": []
  },
  {
   "cell_type": "code",
   "execution_count": null,
   "metadata": {},
   "outputs": [],
   "source": []
  }
 ],
 "metadata": {
  "kernelspec": {
   "display_name": "Python 3",
   "language": "python",
   "name": "python3"
  },
  "language_info": {
   "codemirror_mode": {
    "name": "ipython",
    "version": 3
   },
   "file_extension": ".py",
   "mimetype": "text/x-python",
   "name": "python",
   "nbconvert_exporter": "python",
   "pygments_lexer": "ipython3",
   "version": "3.7.7"
  }
 },
 "nbformat": 4,
 "nbformat_minor": 4
}
