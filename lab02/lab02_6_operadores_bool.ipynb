{
 "cells": [
  {
   "cell_type": "markdown",
   "metadata": {},
   "source": [
    "# Operadores AND OR NOT"
   ]
  },
  {
   "cell_type": "markdown",
   "metadata": {},
   "source": [
    "![Image](images/truth-table.png)"
   ]
  },
  {
   "cell_type": "markdown",
   "metadata": {},
   "source": [
    "## Ejemplo Operador AND"
   ]
  },
  {
   "cell_type": "code",
   "execution_count": 2,
   "metadata": {},
   "outputs": [
    {
     "name": "stdin",
     "output_type": "stream",
     "text": [
      "Cual es tu genero? (varon/mujer)? varon\n",
      "Edad? 57\n",
      "Salario? 14334.56\n"
     ]
    },
    {
     "name": "stdout",
     "output_type": "stream",
     "text": [
      "Estas en edad de jubilarte y tu pension sera  14184.56\n",
      "Fin..\n"
     ]
    }
   ],
   "source": [
    "genero = input('Cual es tu genero? (varon/mujer)?')\n",
    "edad = int(input('Edad?'))\n",
    "sueldo = float(input('Salario?'))\n",
    "if genero == 'mujer' and edad > 50:\n",
    "    sueldo -=100\n",
    "    print('Estas en edad de jubilarte y tu pension sera ', sueldo)\n",
    "elif genero == 'varon' and edad > 55:\n",
    "    sueldo -=150\n",
    "    print('Estas en edad de jubilarte y tu pension sera ', sueldo)\n",
    "else:\n",
    "    print('Estas en edad laboral con sueldo ', sueldo)\n",
    "print('Fin..')"
   ]
  },
  {
   "cell_type": "code",
   "execution_count": 5,
   "metadata": {},
   "outputs": [
    {
     "name": "stdin",
     "output_type": "stream",
     "text": [
      "Cual es tu genero? (varon/mujer)? varon\n",
      "Salario? 14000\n",
      "Tienes Hijos? (s/n) s\n"
     ]
    },
    {
     "name": "stdout",
     "output_type": "stream",
     "text": [
      "Tienes derecho a tu bono familiar de varon\n"
     ]
    }
   ],
   "source": [
    "genero = input('Cual es tu genero? (varon/mujer)?')\n",
    "sueldo = int(input('Salario?'))\n",
    "hijos = input('Tienes Hijos? (s/n)')\n",
    "if (genero == 'mujer' and sueldo < 200) or hijos =='s':\n",
    "    print('Tienes derecho a tu bono familiar de', genero)\n",
    "elif genero =='varon' and sueldo < 1500:\n",
    "    print('Tienes derecho a tu bono familiar de', genero)\n",
    "else:\n",
    "    print('No tienes derecho a nada!!')\n"
   ]
  },
  {
   "cell_type": "markdown",
   "metadata": {},
   "source": [
    "## Ejemplo de Operador NOT"
   ]
  },
  {
   "cell_type": "code",
   "execution_count": 7,
   "metadata": {},
   "outputs": [
    {
     "name": "stdin",
     "output_type": "stream",
     "text": [
      "Edad? 23\n",
      "Tiene virus? (1/0) 1\n"
     ]
    }
   ],
   "source": [
    "edad = int(input('Edad?'))\n",
    "virus = int(input('Tiene virus? (1/0)'))\n",
    "tiene_virus = virus == 1\n"
   ]
  },
  {
   "cell_type": "code",
   "execution_count": 8,
   "metadata": {},
   "outputs": [
    {
     "name": "stdout",
     "output_type": "stream",
     "text": [
      "True\n"
     ]
    }
   ],
   "source": [
    "print(tiene_virus)"
   ]
  },
  {
   "cell_type": "code",
   "execution_count": null,
   "metadata": {},
   "outputs": [],
   "source": []
  },
  {
   "cell_type": "code",
   "execution_count": null,
   "metadata": {},
   "outputs": [],
   "source": []
  },
  {
   "cell_type": "code",
   "execution_count": null,
   "metadata": {},
   "outputs": [],
   "source": []
  },
  {
   "cell_type": "code",
   "execution_count": null,
   "metadata": {},
   "outputs": [],
   "source": []
  },
  {
   "cell_type": "code",
   "execution_count": null,
   "metadata": {},
   "outputs": [],
   "source": []
  }
 ],
 "metadata": {
  "kernelspec": {
   "display_name": "Python 3",
   "language": "python",
   "name": "python3"
  },
  "language_info": {
   "codemirror_mode": {
    "name": "ipython",
    "version": 3
   },
   "file_extension": ".py",
   "mimetype": "text/x-python",
   "name": "python",
   "nbconvert_exporter": "python",
   "pygments_lexer": "ipython3",
   "version": "3.7.7"
  }
 },
 "nbformat": 4,
 "nbformat_minor": 4
}
