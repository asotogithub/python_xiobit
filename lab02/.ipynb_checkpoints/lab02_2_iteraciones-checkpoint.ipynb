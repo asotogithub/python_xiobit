{
 "cells": [
  {
   "cell_type": "markdown",
   "metadata": {},
   "source": [
    "# Iteraciones"
   ]
  },
  {
   "cell_type": "markdown",
   "metadata": {},
   "source": [
    "## Sentencia While"
   ]
  },
  {
   "cell_type": "markdown",
   "metadata": {},
   "source": [
    "La sentencia While se utiliza para una ejecucion repetitiva mientras cumpla una condicion"
   ]
  },
  {
   "cell_type": "code",
   "execution_count": 1,
   "metadata": {},
   "outputs": [
    {
     "name": "stdout",
     "output_type": "stream",
     "text": [
      "Numero es:  0\n",
      "Numero es:  2\n",
      "Numero es:  4\n",
      "Numero es:  6\n",
      "Numero es:  8\n",
      "Numero es:  10\n",
      "Numero es:  12\n",
      "Numero es:  14\n",
      "Numero es:  16\n",
      "Numero es:  18\n",
      "Numero es:  20\n",
      "Numero es:  22\n",
      "Numero es:  24\n",
      "Numero es:  26\n",
      "Numero es:  28\n",
      "Numero es:  30\n",
      "Numero es:  32\n",
      "Numero es:  34\n",
      "Numero es:  36\n",
      "Numero es:  38\n",
      "Numero es:  40\n",
      "Numero es:  42\n",
      "Numero es:  44\n",
      "Numero es:  46\n",
      "Numero es:  48\n",
      "Numero es:  50\n",
      "Numero es:  52\n",
      "Numero es:  54\n",
      "Numero es:  56\n",
      "Numero es:  58\n",
      "Numero es:  60\n",
      "Numero es:  62\n",
      "Numero es:  64\n",
      "Numero es:  66\n",
      "Numero es:  68\n",
      "Numero es:  70\n",
      "Numero es:  72\n",
      "Numero es:  74\n",
      "Numero es:  76\n",
      "Numero es:  78\n",
      "Numero es:  80\n",
      "Numero es:  82\n",
      "Numero es:  84\n",
      "Numero es:  86\n",
      "Numero es:  88\n",
      "Numero es:  90\n",
      "Numero es:  92\n",
      "Numero es:  94\n",
      "Numero es:  96\n",
      "Numero es:  98\n",
      "Numero es:  100\n"
     ]
    }
   ],
   "source": [
    "#Ejemplo 1\n",
    "numero = 0\n",
    "while numero <=100:\n",
    "    if numero % 2 == 0:  #Verificar que el numero es par\n",
    "        print('Numero es: ', numero)\n",
    "    numero = numero + 1  # Incrementamos el valor de numero\n",
    "    "
   ]
  },
  {
   "cell_type": "markdown",
   "metadata": {},
   "source": [
    "## Sentencia FOR"
   ]
  },
  {
   "cell_type": "markdown",
   "metadata": {},
   "source": [
    "La sentencia **for** se utiliza para recorrer los elementos de una secuencia, String, Tuple, list"
   ]
  },
  {
   "cell_type": "code",
   "execution_count": 2,
   "metadata": {},
   "outputs": [
    {
     "name": "stdout",
     "output_type": "stream",
     "text": [
      "Q\n",
      "u\n",
      "e\n",
      "d\n",
      "a\n",
      "t\n",
      "e\n",
      " \n",
      "e\n",
      "n\n",
      " \n",
      "c\n",
      "a\n",
      "s\n",
      "a\n"
     ]
    }
   ],
   "source": [
    "for letra in 'Quedate en casa':\n",
    "    print(letra)"
   ]
  },
  {
   "cell_type": "code",
   "execution_count": 3,
   "metadata": {},
   "outputs": [
    {
     "name": "stdout",
     "output_type": "stream",
     "text": [
      "Q*u*e*d*a*t*e* *e*n* *c*a*s*a*"
     ]
    }
   ],
   "source": [
    "for letra in 'Quedate en casa':\n",
    "    print(letra, end='*')"
   ]
  },
  {
   "cell_type": "code",
   "execution_count": 4,
   "metadata": {},
   "outputs": [
    {
     "name": "stdout",
     "output_type": "stream",
     "text": [
      "0\n",
      "1\n",
      "2\n",
      "3\n",
      "4\n",
      "5\n",
      "6\n",
      "7\n",
      "8\n",
      "9\n",
      "10\n",
      "11\n",
      "12\n",
      "13\n",
      "14\n",
      "15\n",
      "16\n",
      "17\n"
     ]
    }
   ],
   "source": [
    "for num in range(18):\n",
    "    print(num)"
   ]
  },
  {
   "cell_type": "code",
   "execution_count": 5,
   "metadata": {},
   "outputs": [
    {
     "name": "stdout",
     "output_type": "stream",
     "text": [
      "Primera linea-Segunda linea\n"
     ]
    }
   ],
   "source": [
    "print('Primera linea','Segunda linea', sep='-')"
   ]
  },
  {
   "cell_type": "code",
   "execution_count": 7,
   "metadata": {},
   "outputs": [
    {
     "name": "stdout",
     "output_type": "stream",
     "text": [
      "Primera linea-Segunda linea|Tercera linea\n"
     ]
    }
   ],
   "source": [
    "print('Primera linea','Segunda linea', sep='-', end='|')\n",
    "print('Tercera linea')"
   ]
  },
  {
   "cell_type": "code",
   "execution_count": 8,
   "metadata": {},
   "outputs": [
    {
     "name": "stdout",
     "output_type": "stream",
     "text": [
      "Primera linea-Segunda linea[Hola]Tercera linea\n"
     ]
    }
   ],
   "source": [
    "print('Primera linea','Segunda linea', sep='-', end='[Hola]')\n",
    "print('Tercera linea')"
   ]
  },
  {
   "cell_type": "markdown",
   "metadata": {},
   "source": [
    "Iterar una Cadena de Caracteres"
   ]
  },
  {
   "cell_type": "code",
   "execution_count": 9,
   "metadata": {},
   "outputs": [
    {
     "name": "stdout",
     "output_type": "stream",
     "text": [
      "Q|u|e|d|a|t|e| |e|n| |c|a|s|a|"
     ]
    }
   ],
   "source": [
    "for letra in 'Quedate en casa':\n",
    "    print(letra, end='|')"
   ]
  },
  {
   "cell_type": "code",
   "execution_count": 10,
   "metadata": {},
   "outputs": [],
   "source": [
    "#Iterar una Lista\n",
    "#Definicion de una lista en Python lista = [1,2,3,4]"
   ]
  },
  {
   "cell_type": "code",
   "execution_count": 11,
   "metadata": {},
   "outputs": [],
   "source": [
    "notas = [67,98,65,88,90,47]\n",
    "total =0"
   ]
  },
  {
   "cell_type": "code",
   "execution_count": 12,
   "metadata": {},
   "outputs": [
    {
     "data": {
      "text/plain": [
       "list"
      ]
     },
     "execution_count": 12,
     "metadata": {},
     "output_type": "execute_result"
    }
   ],
   "source": [
    "type(notas)"
   ]
  },
  {
   "cell_type": "code",
   "execution_count": 13,
   "metadata": {},
   "outputs": [],
   "source": [
    "for n in notas:\n",
    "    total = total + n"
   ]
  },
  {
   "cell_type": "code",
   "execution_count": 14,
   "metadata": {},
   "outputs": [
    {
     "name": "stdout",
     "output_type": "stream",
     "text": [
      "el total es=455\n"
     ]
    }
   ],
   "source": [
    "print('el total es', total, sep='=')"
   ]
  },
  {
   "cell_type": "code",
   "execution_count": 15,
   "metadata": {},
   "outputs": [],
   "source": [
    "#Iterar un range()"
   ]
  },
  {
   "cell_type": "code",
   "execution_count": 16,
   "metadata": {},
   "outputs": [
    {
     "name": "stdout",
     "output_type": "stream",
     "text": [
      "0\n",
      "1\n",
      "2\n",
      "3\n",
      "4\n",
      "5\n",
      "6\n",
      "7\n",
      "8\n",
      "9\n"
     ]
    }
   ],
   "source": [
    "for x in range(10):\n",
    "    print(x)"
   ]
  },
  {
   "cell_type": "code",
   "execution_count": 17,
   "metadata": {},
   "outputs": [
    {
     "name": "stdout",
     "output_type": "stream",
     "text": [
      "1\n",
      "2\n",
      "3\n",
      "4\n",
      "5\n",
      "6\n",
      "7\n",
      "8\n",
      "9\n",
      "10\n",
      "11\n",
      "12\n",
      "13\n",
      "14\n"
     ]
    }
   ],
   "source": [
    "for y in range(1,15):\n",
    "    print(y)"
   ]
  },
  {
   "cell_type": "code",
   "execution_count": 18,
   "metadata": {},
   "outputs": [],
   "source": [
    "#Example : multiplication table"
   ]
  },
  {
   "cell_type": "code",
   "execution_count": 22,
   "metadata": {},
   "outputs": [
    {
     "name": "stdin",
     "output_type": "stream",
     "text": [
      "Que tabla de multi desea generar? 6\n"
     ]
    },
    {
     "name": "stdout",
     "output_type": "stream",
     "text": [
      "0 x 6 = 0\n",
      "1 x 6 = 6\n",
      "2 x 6 = 12\n",
      "3 x 6 = 18\n",
      "4 x 6 = 24\n",
      "5 x 6 = 30\n",
      "6 x 6 = 36\n",
      "7 x 6 = 42\n",
      "8 x 6 = 48\n",
      "9 x 6 = 54\n"
     ]
    }
   ],
   "source": [
    "tabla = int(input('Que tabla de multi desea generar?'))\n",
    "for num in range(10):\n",
    "    print(num, 'x',tabla,'=', (num * tabla))"
   ]
  },
  {
   "cell_type": "markdown",
   "metadata": {},
   "source": [
    "# Sentencia BREAK and CONTINUE"
   ]
  },
  {
   "cell_type": "code",
   "execution_count": 23,
   "metadata": {},
   "outputs": [
    {
     "name": "stdout",
     "output_type": "stream",
     "text": [
      "0 1 2 3 4 5 6 7 8 9 10 11 12 13 14 15 16 17 18 19 "
     ]
    }
   ],
   "source": [
    "for numero in range(100):\n",
    "    if numero == 20:\n",
    "        break\n",
    "    print(numero, end=' ')\n",
    "    "
   ]
  },
  {
   "cell_type": "code",
   "execution_count": 24,
   "metadata": {},
   "outputs": [
    {
     "name": "stdout",
     "output_type": "stream",
     "text": [
      "0 1 2 3 4 6 7 8 9 "
     ]
    }
   ],
   "source": [
    "for numero in range(10):\n",
    "    if numero == 5:\n",
    "        continue\n",
    "    print(numero, end=' ')"
   ]
  },
  {
   "cell_type": "code",
   "execution_count": null,
   "metadata": {},
   "outputs": [],
   "source": []
  },
  {
   "cell_type": "code",
   "execution_count": null,
   "metadata": {},
   "outputs": [],
   "source": []
  },
  {
   "cell_type": "code",
   "execution_count": null,
   "metadata": {},
   "outputs": [],
   "source": []
  },
  {
   "cell_type": "code",
   "execution_count": null,
   "metadata": {},
   "outputs": [],
   "source": []
  },
  {
   "cell_type": "code",
   "execution_count": null,
   "metadata": {},
   "outputs": [],
   "source": []
  }
 ],
 "metadata": {
  "kernelspec": {
   "display_name": "Python 3",
   "language": "python",
   "name": "python3"
  },
  "language_info": {
   "codemirror_mode": {
    "name": "ipython",
    "version": 3
   },
   "file_extension": ".py",
   "mimetype": "text/x-python",
   "name": "python",
   "nbconvert_exporter": "python",
   "pygments_lexer": "ipython3",
   "version": "3.7.7"
  }
 },
 "nbformat": 4,
 "nbformat_minor": 4
}
