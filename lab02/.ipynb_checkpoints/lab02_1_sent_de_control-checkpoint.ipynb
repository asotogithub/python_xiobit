{
 "cells": [
  {
   "cell_type": "markdown",
   "metadata": {},
   "source": [
    "# Sentencias de Control"
   ]
  },
  {
   "cell_type": "markdown",
   "metadata": {},
   "source": [
    "## if - if..else - if..elif..else"
   ]
  },
  {
   "cell_type": "markdown",
   "metadata": {},
   "source": [
    "### Sentencia If"
   ]
  },
  {
   "cell_type": "markdown",
   "metadata": {},
   "source": [
    "La sentencia IF es usada para evaluar una condicion (True or False)"
   ]
  },
  {
   "cell_type": "code",
   "execution_count": 19,
   "metadata": {},
   "outputs": [
    {
     "name": "stdin",
     "output_type": "stream",
     "text": [
      "Nota del alumno? 3\n"
     ]
    },
    {
     "name": "stdout",
     "output_type": "stream",
     "text": [
      "Fin del Programa!\n"
     ]
    }
   ],
   "source": [
    "hay_internet = True\n",
    "nota = int(input('Nota del alumno?'))\n",
    "if nota >= 51:\n",
    "    print('Aprovaste el Curso')\n",
    "    print('Imprimir Certificado')\n",
    "    if hay_internet:\n",
    "        print('Enviar email')\n",
    "        print('Enviar Whasape!')\n",
    "print('Fin del Programa!')"
   ]
  },
  {
   "cell_type": "markdown",
   "metadata": {},
   "source": [
    "## Importante - Codigos de Bloque en Python"
   ]
  },
  {
   "cell_type": "markdown",
   "metadata": {},
   "source": [
    "EN Python se define los bloques en identaciones para su interpretacion"
   ]
  },
  {
   "cell_type": "markdown",
   "metadata": {},
   "source": [
    "En Python la identacion son 4 espacios"
   ]
  },
  {
   "cell_type": "markdown",
   "metadata": {},
   "source": [
    "## if..else Sentence"
   ]
  },
  {
   "cell_type": "markdown",
   "metadata": {},
   "source": [
    "La sentencia else se concidera como un camino alternativo de la sentencia if"
   ]
  },
  {
   "cell_type": "code",
   "execution_count": 20,
   "metadata": {},
   "outputs": [
    {
     "name": "stdin",
     "output_type": "stream",
     "text": [
      "Nota del alumno? 4\n"
     ]
    },
    {
     "name": "stdout",
     "output_type": "stream",
     "text": [
      "EL Alumno reprobo con  4\n"
     ]
    },
    {
     "name": "stdin",
     "output_type": "stream",
     "text": [
      "Quieres ajustar la Nota?(s/n) s\n",
      "Incrementar la nota en? 67\n"
     ]
    },
    {
     "name": "stdout",
     "output_type": "stream",
     "text": [
      "EL alumno reprobo con nota  4  pero se le subio la nota a 71\n",
      "Fin del Programa!\n"
     ]
    }
   ],
   "source": [
    "hay_internet = True\n",
    "nota = int(input('Nota del alumno?'))\n",
    "if nota >= 51:\n",
    "    print('Aprovaste el Curso')\n",
    "    print('Imprimir Certificado')\n",
    "    if hay_internet:\n",
    "        print('Enviar email')\n",
    "        print('Enviar Whasape!')\n",
    "else:\n",
    "    print('EL Alumno reprobo con ', nota)\n",
    "    ajuste = input('Quieres ajustar la Nota?(s/n)')\n",
    "    if ajuste =='s':\n",
    "        nota_ajuste = int(input('Incrementar la nota en?'))\n",
    "        nota_final = nota + nota_ajuste\n",
    "        print('EL alumno reprobo con nota ', nota, ' pero se le subio la nota a', nota_final)\n",
    "    else:\n",
    "        print('Reprobo con nota ', nota, 'Reforzar')\n",
    "print('Fin del Programa!')"
   ]
  },
  {
   "cell_type": "markdown",
   "metadata": {},
   "source": [
    "## Otra forma de usar la sentencia if"
   ]
  },
  {
   "cell_type": "code",
   "execution_count": 21,
   "metadata": {},
   "outputs": [],
   "source": [
    "resultado = ('Aprobado' if nota >= 51 else 'Reprobaste')"
   ]
  },
  {
   "cell_type": "code",
   "execution_count": 22,
   "metadata": {},
   "outputs": [
    {
     "data": {
      "text/plain": [
       "'Reprobaste'"
      ]
     },
     "execution_count": 22,
     "metadata": {},
     "output_type": "execute_result"
    }
   ],
   "source": [
    "resultado"
   ]
  },
  {
   "cell_type": "markdown",
   "metadata": {},
   "source": [
    "## Sentencia if..elif..else"
   ]
  },
  {
   "cell_type": "markdown",
   "metadata": {},
   "source": [
    "Esta sentencia se utilizar para varias condiciones."
   ]
  },
  {
   "cell_type": "code",
   "execution_count": 23,
   "metadata": {},
   "outputs": [
    {
     "name": "stdin",
     "output_type": "stream",
     "text": [
      "Nota del alumno? 56\n"
     ]
    },
    {
     "name": "stdout",
     "output_type": "stream",
     "text": [
      "Regular\n"
     ]
    }
   ],
   "source": [
    "nota = int(input('Nota del alumno?'))\n",
    "if nota >= 95:\n",
    "    print('Excelente')\n",
    "elif nota >= 75:\n",
    "    print('Muy Bien')\n",
    "elif nota >= 65:\n",
    "    print('Bien')\n",
    "elif nota >= 51:\n",
    "    print('Regular')\n",
    "else:\n",
    "    print('Reforzamiento')"
   ]
  },
  {
   "cell_type": "code",
   "execution_count": null,
   "metadata": {},
   "outputs": [],
   "source": []
  }
 ],
 "metadata": {
  "kernelspec": {
   "display_name": "Python 3",
   "language": "python",
   "name": "python3"
  },
  "language_info": {
   "codemirror_mode": {
    "name": "ipython",
    "version": 3
   },
   "file_extension": ".py",
   "mimetype": "text/x-python",
   "name": "python",
   "nbconvert_exporter": "python",
   "pygments_lexer": "ipython3",
   "version": "3.7.7"
  }
 },
 "nbformat": 4,
 "nbformat_minor": 4
}
