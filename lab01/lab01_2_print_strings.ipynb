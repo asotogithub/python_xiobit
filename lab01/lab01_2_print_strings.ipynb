{
 "cells": [
  {
   "cell_type": "markdown",
   "metadata": {},
   "source": [
    "# Strings and Prints in Python"
   ]
  },
  {
   "cell_type": "markdown",
   "metadata": {},
   "source": [
    "## function print()"
   ]
  },
  {
   "cell_type": "code",
   "execution_count": 1,
   "metadata": {},
   "outputs": [
    {
     "name": "stdout",
     "output_type": "stream",
     "text": [
      "6.9\n"
     ]
    }
   ],
   "source": [
    "print(6.9)"
   ]
  },
  {
   "cell_type": "markdown",
   "metadata": {},
   "source": [
    "## Strings - Cadena de Caracteres "
   ]
  },
  {
   "cell_type": "code",
   "execution_count": 2,
   "metadata": {},
   "outputs": [
    {
     "name": "stdout",
     "output_type": "stream",
     "text": [
      "b2$ hi world 3!\n"
     ]
    }
   ],
   "source": [
    "print('b2$ hi world 3!')"
   ]
  },
  {
   "cell_type": "code",
   "execution_count": 3,
   "metadata": {},
   "outputs": [
    {
     "name": "stdout",
     "output_type": "stream",
     "text": [
      "adios mundo cruel\n"
     ]
    }
   ],
   "source": [
    "print('adios', 'mundo','cruel')"
   ]
  },
  {
   "cell_type": "code",
   "execution_count": 4,
   "metadata": {},
   "outputs": [
    {
     "name": "stdout",
     "output_type": "stream",
     "text": [
      "Este es el descuento:  5.0\n"
     ]
    }
   ],
   "source": [
    "print('Este es el descuento: ', 50*0.10)"
   ]
  },
  {
   "cell_type": "code",
   "execution_count": 5,
   "metadata": {},
   "outputs": [
    {
     "name": "stdout",
     "output_type": "stream",
     "text": [
      "Primera linea de texto\n",
      "Segunda linea de texto\n"
     ]
    }
   ],
   "source": [
    "print('Primera linea de texto\\nSegunda linea de texto')"
   ]
  },
  {
   "cell_type": "code",
   "execution_count": 7,
   "metadata": {},
   "outputs": [
    {
     "name": "stdout",
     "output_type": "stream",
     "text": [
      "Ciudad\t\tProvincia\tPais\n",
      "Cochabamba\tCercado\t\tBolivia\n"
     ]
    }
   ],
   "source": [
    "print('Ciudad\\t\\tProvincia\\tPais')\n",
    "print('Cochabamba\\tCercado\\t\\tBolivia')"
   ]
  },
  {
   "cell_type": "code",
   "execution_count": 8,
   "metadata": {},
   "outputs": [
    {
     "name": "stdout",
     "output_type": "stream",
     "text": [
      "the file is in C:\\Windows\\tracks\n"
     ]
    }
   ],
   "source": [
    "print('the file is in C:\\Windows\\\\tracks')"
   ]
  },
  {
   "cell_type": "code",
   "execution_count": 9,
   "metadata": {},
   "outputs": [
    {
     "name": "stdout",
     "output_type": "stream",
     "text": [
      "Sir Isacc Newton said: \"Si e logrado ver mas lejos es porque he subido a hombros de Gigantes 1693\"\n"
     ]
    }
   ],
   "source": [
    "print(\"Sir Isacc Newton said: \\\"Si e logrado ver mas lejos es porque he subido a hombros de Gigantes 1693\\\"\")"
   ]
  },
  {
   "cell_type": "code",
   "execution_count": 11,
   "metadata": {},
   "outputs": [],
   "source": [
    "propaganda = 'coma en Joe\\'s todo lo que quiera'"
   ]
  },
  {
   "cell_type": "code",
   "execution_count": 12,
   "metadata": {},
   "outputs": [
    {
     "name": "stdout",
     "output_type": "stream",
     "text": [
      "coma en Joe's todo lo que quiera\n"
     ]
    }
   ],
   "source": [
    "print(propaganda)"
   ]
  },
  {
   "cell_type": "markdown",
   "metadata": {},
   "source": [
    "## Comillas Triples"
   ]
  },
  {
   "cell_type": "code",
   "execution_count": 13,
   "metadata": {},
   "outputs": [],
   "source": [
    "frace = \"\"\" Lo pero que haga comido\n",
    "esta en 'foods' esto lo dijo \"Jacinto Venavente\"  \n",
    "Saludos \"\"\""
   ]
  },
  {
   "cell_type": "code",
   "execution_count": 14,
   "metadata": {},
   "outputs": [
    {
     "name": "stdout",
     "output_type": "stream",
     "text": [
      " Lo pero que haga comido\n",
      "esta en 'foods' esto lo dijo \"Jacinto Venavente\"  \n",
      "Saludos \n"
     ]
    }
   ],
   "source": [
    "print(frace)"
   ]
  },
  {
   "cell_type": "code",
   "execution_count": null,
   "metadata": {},
   "outputs": [],
   "source": []
  },
  {
   "cell_type": "code",
   "execution_count": null,
   "metadata": {},
   "outputs": [],
   "source": []
  },
  {
   "cell_type": "code",
   "execution_count": null,
   "metadata": {},
   "outputs": [],
   "source": []
  }
 ],
 "metadata": {
  "kernelspec": {
   "display_name": "Python 3",
   "language": "python",
   "name": "python3"
  },
  "language_info": {
   "codemirror_mode": {
    "name": "ipython",
    "version": 3
   },
   "file_extension": ".py",
   "mimetype": "text/x-python",
   "name": "python",
   "nbconvert_exporter": "python",
   "pygments_lexer": "ipython3",
   "version": "3.7.7"
  }
 },
 "nbformat": 4,
 "nbformat_minor": 4
}
